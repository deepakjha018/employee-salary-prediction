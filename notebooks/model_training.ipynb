{
 "cells": [
  {
   "cell_type": "code",
   "execution_count": 1,
   "id": "f5e8b03f",
   "metadata": {},
   "outputs": [],
   "source": [
    "import pandas as pd\n",
    "import numpy as np\n",
    "import matplotlib.pyplot as plt\n",
    "from pathlib import Path\n",
    "\n",
    "from sklearn.compose import ColumnTransformer\n",
    "from sklearn.preprocessing import OneHotEncoder, StandardScaler\n",
    "from sklearn.model_selection import train_test_split, StratifiedKFold, cross_val_score\n",
    "from sklearn.pipeline import Pipeline\n",
    "from sklearn.linear_model import LogisticRegression\n",
    "from sklearn.ensemble import HistGradientBoostingClassifier\n",
    "from sklearn.metrics import roc_auc_score, f1_score, roc_curve\n",
    "\n",
    "RANDOM_SEED = 42\n",
    "TEST_SIZE   = 0.2\n",
    "\n",
    "data_path   = Path(\"../data/processed/employee_salary_final.csv\")\n",
    "model_dir   = Path(\"../models\")\n",
    "model_dir.mkdir(exist_ok=True)\n"
   ]
  },
  {
   "cell_type": "code",
   "execution_count": 2,
   "id": "cccc9406",
   "metadata": {},
   "outputs": [
    {
     "data": {
      "text/html": [
       "<div>\n",
       "<style scoped>\n",
       "    .dataframe tbody tr th:only-of-type {\n",
       "        vertical-align: middle;\n",
       "    }\n",
       "\n",
       "    .dataframe tbody tr th {\n",
       "        vertical-align: top;\n",
       "    }\n",
       "\n",
       "    .dataframe thead th {\n",
       "        text-align: right;\n",
       "    }\n",
       "</style>\n",
       "<table border=\"1\" class=\"dataframe\">\n",
       "  <thead>\n",
       "    <tr style=\"text-align: right;\">\n",
       "      <th></th>\n",
       "      <th>age</th>\n",
       "      <th>workclass</th>\n",
       "      <th>educational-num</th>\n",
       "      <th>occupation</th>\n",
       "      <th>hours-per-week</th>\n",
       "      <th>capital-gain</th>\n",
       "      <th>capital-loss</th>\n",
       "      <th>income</th>\n",
       "    </tr>\n",
       "  </thead>\n",
       "  <tbody>\n",
       "    <tr>\n",
       "      <th>0</th>\n",
       "      <td>25</td>\n",
       "      <td>Private</td>\n",
       "      <td>7</td>\n",
       "      <td>Machine-op-inspct</td>\n",
       "      <td>40</td>\n",
       "      <td>0</td>\n",
       "      <td>0</td>\n",
       "      <td>&lt;=50K</td>\n",
       "    </tr>\n",
       "    <tr>\n",
       "      <th>1</th>\n",
       "      <td>38</td>\n",
       "      <td>Private</td>\n",
       "      <td>9</td>\n",
       "      <td>Farming-fishing</td>\n",
       "      <td>50</td>\n",
       "      <td>0</td>\n",
       "      <td>0</td>\n",
       "      <td>&lt;=50K</td>\n",
       "    </tr>\n",
       "    <tr>\n",
       "      <th>2</th>\n",
       "      <td>28</td>\n",
       "      <td>Local-gov</td>\n",
       "      <td>12</td>\n",
       "      <td>Protective-serv</td>\n",
       "      <td>40</td>\n",
       "      <td>0</td>\n",
       "      <td>0</td>\n",
       "      <td>&gt;50K</td>\n",
       "    </tr>\n",
       "    <tr>\n",
       "      <th>3</th>\n",
       "      <td>44</td>\n",
       "      <td>Private</td>\n",
       "      <td>10</td>\n",
       "      <td>Machine-op-inspct</td>\n",
       "      <td>40</td>\n",
       "      <td>7688</td>\n",
       "      <td>0</td>\n",
       "      <td>&gt;50K</td>\n",
       "    </tr>\n",
       "    <tr>\n",
       "      <th>4</th>\n",
       "      <td>18</td>\n",
       "      <td>?</td>\n",
       "      <td>10</td>\n",
       "      <td>?</td>\n",
       "      <td>30</td>\n",
       "      <td>0</td>\n",
       "      <td>0</td>\n",
       "      <td>&lt;=50K</td>\n",
       "    </tr>\n",
       "  </tbody>\n",
       "</table>\n",
       "</div>"
      ],
      "text/plain": [
       "   age  workclass  educational-num         occupation  hours-per-week  \\\n",
       "0   25    Private                7  Machine-op-inspct              40   \n",
       "1   38    Private                9    Farming-fishing              50   \n",
       "2   28  Local-gov               12    Protective-serv              40   \n",
       "3   44    Private               10  Machine-op-inspct              40   \n",
       "4   18          ?               10                  ?              30   \n",
       "\n",
       "   capital-gain  capital-loss income  \n",
       "0             0             0  <=50K  \n",
       "1             0             0  <=50K  \n",
       "2             0             0   >50K  \n",
       "3          7688             0   >50K  \n",
       "4             0             0  <=50K  "
      ]
     },
     "execution_count": 2,
     "metadata": {},
     "output_type": "execute_result"
    }
   ],
   "source": [
    "df = pd.read_csv(data_path)\n",
    "df.head()\n"
   ]
  },
  {
   "cell_type": "code",
   "execution_count": 3,
   "id": "63dd9bfb",
   "metadata": {},
   "outputs": [],
   "source": [
    "X = df.drop(columns=[\"income\"])\n",
    "y = (df[\"income\"] == \">50K\").astype(int)\n",
    "\n",
    "cat_cols = [\"workclass\", \"occupation\"]\n",
    "num_cols = [c for c in X.columns if c not in cat_cols]\n",
    "\n",
    "X_train, X_test, y_train, y_test = train_test_split(\n",
    "    X, y, stratify=y, test_size=TEST_SIZE, random_state=RANDOM_SEED\n",
    ")\n"
   ]
  },
  {
   "cell_type": "code",
   "execution_count": 4,
   "id": "8a312af2",
   "metadata": {},
   "outputs": [],
   "source": [
    "preproc = ColumnTransformer(\n",
    "    [\n",
    "        (\"num\", StandardScaler(), num_cols),\n",
    "        (\"cat\", OneHotEncoder(handle_unknown=\"ignore\", sparse_output=False), cat_cols),\n",
    "    ]\n",
    ")\n"
   ]
  },
  {
   "cell_type": "code",
   "execution_count": 5,
   "id": "43e1f428",
   "metadata": {},
   "outputs": [],
   "source": [
    "# Logistic Regression baseline\n",
    "log_clf = Pipeline([\n",
    "    (\"prep\", preproc),\n",
    "    (\"model\", LogisticRegression(max_iter=1000, class_weight=\"balanced\", random_state=RANDOM_SEED))\n",
    "])\n",
    "\n",
    "# Histogram Gradient‑Boosting\n",
    "boost_clf = Pipeline([\n",
    "    (\"prep\", preproc),\n",
    "    (\"model\", HistGradientBoostingClassifier(\n",
    "        learning_rate=0.05,\n",
    "        max_depth=None,\n",
    "        max_iter=400,\n",
    "        l2_regularization=1.0,\n",
    "        random_state=RANDOM_SEED,\n",
    "    ))\n",
    "])\n"
   ]
  },
  {
   "cell_type": "code",
   "execution_count": 6,
   "id": "e565526a",
   "metadata": {},
   "outputs": [
    {
     "name": "stdout",
     "output_type": "stream",
     "text": [
      "Logistic Regression   ROC‑AUC: 0.842  •  F1: 0.605\n",
      "HistGradientBoost     ROC‑AUC: 0.885  •  F1: 0.627\n"
     ]
    },
    {
     "data": {
      "text/html": [
       "<div>\n",
       "<style scoped>\n",
       "    .dataframe tbody tr th:only-of-type {\n",
       "        vertical-align: middle;\n",
       "    }\n",
       "\n",
       "    .dataframe tbody tr th {\n",
       "        vertical-align: top;\n",
       "    }\n",
       "\n",
       "    .dataframe thead th {\n",
       "        text-align: right;\n",
       "    }\n",
       "</style>\n",
       "<table border=\"1\" class=\"dataframe\">\n",
       "  <thead>\n",
       "    <tr style=\"text-align: right;\">\n",
       "      <th></th>\n",
       "      <th>Model</th>\n",
       "      <th>ROC‑AUC</th>\n",
       "      <th>F1</th>\n",
       "    </tr>\n",
       "  </thead>\n",
       "  <tbody>\n",
       "    <tr>\n",
       "      <th>0</th>\n",
       "      <td>Logistic</td>\n",
       "      <td>0.842246</td>\n",
       "      <td>0.604805</td>\n",
       "    </tr>\n",
       "    <tr>\n",
       "      <th>1</th>\n",
       "      <td>HistGB</td>\n",
       "      <td>0.885262</td>\n",
       "      <td>0.627451</td>\n",
       "    </tr>\n",
       "  </tbody>\n",
       "</table>\n",
       "</div>"
      ],
      "text/plain": [
       "      Model   ROC‑AUC        F1\n",
       "0  Logistic  0.842246  0.604805\n",
       "1    HistGB  0.885262  0.627451"
      ]
     },
     "execution_count": 6,
     "metadata": {},
     "output_type": "execute_result"
    }
   ],
   "source": [
    "def fit_eval(pipe, name):\n",
    "    pipe.fit(X_train, y_train)\n",
    "    y_pred = pipe.predict(X_test)\n",
    "    y_prob = pipe.predict_proba(X_test)[:, 1]\n",
    "    roc  = roc_auc_score(y_test, y_prob)\n",
    "    f1   = f1_score(y_test, y_pred)\n",
    "    print(f\"{name:20s}  ROC‑AUC: {roc:.3f}  •  F1: {f1:.3f}\")\n",
    "    return pipe, roc, f1, y_prob\n",
    "\n",
    "log_model , roc_log , f1_log , prob_log   = fit_eval(log_clf , \"Logistic Regression\")\n",
    "boost_model, roc_boost, f1_boost, prob_boost = fit_eval(boost_clf, \"HistGradientBoost\")\n",
    "\n",
    "# Quick comparison table\n",
    "import pandas as pd\n",
    "pd.DataFrame({\n",
    "    \"Model\": [\"Logistic\", \"HistGB\"],\n",
    "    \"ROC‑AUC\": [roc_log, roc_boost],\n",
    "    \"F1\": [f1_log, f1_boost]\n",
    "})\n"
   ]
  },
  {
   "cell_type": "code",
   "execution_count": 7,
   "id": "9d7f44e0",
   "metadata": {},
   "outputs": [
    {
     "data": {
      "image/png": "[encoded data removed]",
      "text/plain": [
       "<Figure size 700x500 with 1 Axes>"
      ]
     },
     "metadata": {},
     "output_type": "display_data"
    }
   ],
   "source": [
    "fpr_log,   tpr_log,   _ = roc_curve(y_test, prob_log)\n",
    "fpr_boost, tpr_boost, _ = roc_curve(y_test, prob_boost)\n",
    "\n",
    "plt.figure(figsize=(7,5))\n",
    "plt.plot(fpr_log,   tpr_log,   label=f\"Logistic (AUC={roc_log:.3f})\")\n",
    "plt.plot(fpr_boost, tpr_boost, label=f\"HistGB  (AUC={roc_boost:.3f})\")\n",
    "plt.plot([0,1], [0,1], linestyle=\"--\", color=\"gray\")\n",
    "plt.xlabel(\"False Positive Rate\"); plt.ylabel(\"True Positive Rate\")\n",
    "plt.title(\"ROC Curves\")\n",
    "plt.legend(); plt.show()\n"
   ]
  },
  {
   "cell_type": "code",
   "execution_count": 8,
   "id": "6639f8e1",
   "metadata": {},
   "outputs": [
    {
     "name": "stdout",
     "output_type": "stream",
     "text": [
      "✅ Saved notebook-trained HistGB to ..\\models\\model_boost_notebook.pkl\n"
     ]
    }
   ],
   "source": [
    "import joblib\n",
    "best_model_path = model_dir / \"model_boost_notebook.pkl\"\n",
    "joblib.dump(boost_model, best_model_path)\n",
    "print(f\"✅ Saved notebook-trained HistGB to {best_model_path}\")\n"
   ]
  }
 ],
 "metadata": {
  "kernelspec": {
   "display_name": ".venv",
   "language": "python",
   "name": "python3"
  },
  "language_info": {
   "codemirror_mode": {
    "name": "ipython",
    "version": 3
   },
   "file_extension": ".py",
   "mimetype": "text/x-python",
   "name": "python",
   "nbconvert_exporter": "python",
   "pygments_lexer": "ipython3",
   "version": "3.11.0"
  }
 },
 "nbformat": 4,
 "nbformat_minor": 5
}
